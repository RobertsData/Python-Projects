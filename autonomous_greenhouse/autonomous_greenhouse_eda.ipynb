{
 "cells": [
  {
   "cell_type": "markdown",
   "metadata": {},
   "source": [
    "### Explore Data From 2018 and 2019 Challenges"
   ]
  },
  {
   "cell_type": "code",
   "execution_count": 5,
   "metadata": {},
   "outputs": [
    {
     "data": {
      "text/plain": [
       "['Digilog',\n",
       " 'IUACAAS',\n",
       " 'Automatoes',\n",
       " 'TheAutomators',\n",
       " 'Economics.pdf',\n",
       " 'Weather',\n",
       " 'AICU',\n",
       " 'ReadMe.pdf',\n",
       " 'Reference']"
      ]
     },
     "execution_count": 5,
     "metadata": {},
     "output_type": "execute_result"
    }
   ],
   "source": [
    "import pandas as pd\n",
    "import matplotlib.pyplot as plt\n",
    "import os\n",
    "\n",
    "base = os.getcwd()"
   ]
  },
  {
   "cell_type": "markdown",
   "metadata": {},
   "source": [
    "Data for 2018 Cucumber Challenge: \n",
    "\n",
    "https://data.4tu.nl/articles/dataset/Autonomous_Greenhouse_Challenge_First_Edition_2018_/12717758/1"
   ]
  },
  {
   "cell_type": "code",
   "execution_count": 7,
   "metadata": {},
   "outputs": [
    {
     "data": {
      "text/plain": [
       "['Reference(Growers)',\n",
       " '.DS_Store',\n",
       " 'iGrow',\n",
       " 'meteo.csv',\n",
       " 'DeepGreens',\n",
       " 'Croperators',\n",
       " 'teams_2018.pdf',\n",
       " 'Sonoma',\n",
       " '.ipynb_checkpoints',\n",
       " 'AiCU',\n",
       " 'ReadMe.pdf']"
      ]
     },
     "execution_count": 7,
     "metadata": {},
     "output_type": "execute_result"
    }
   ],
   "source": [
    "# list of files in the publicly available dataset\n",
    "os.listdir(base+'/ag_data_2018')"
   ]
  },
  {
   "cell_type": "code",
   "execution_count": 10,
   "metadata": {},
   "outputs": [
    {
     "data": {
      "text/html": [
       "<div>\n",
       "<style scoped>\n",
       "    .dataframe tbody tr th:only-of-type {\n",
       "        vertical-align: middle;\n",
       "    }\n",
       "\n",
       "    .dataframe tbody tr th {\n",
       "        vertical-align: top;\n",
       "    }\n",
       "\n",
       "    .dataframe thead th {\n",
       "        text-align: right;\n",
       "    }\n",
       "</style>\n",
       "<table border=\"1\" class=\"dataframe\">\n",
       "  <thead>\n",
       "    <tr style=\"text-align: right;\">\n",
       "      <th></th>\n",
       "      <th>time</th>\n",
       "      <th>AbsHumOut</th>\n",
       "      <th>Iglob</th>\n",
       "      <th>PARout</th>\n",
       "      <th>Pyrgeo</th>\n",
       "      <th>RadSum</th>\n",
       "      <th>Rain</th>\n",
       "      <th>Rhout</th>\n",
       "      <th>Tout</th>\n",
       "      <th>Winddir</th>\n",
       "      <th>Windsp</th>\n",
       "    </tr>\n",
       "  </thead>\n",
       "  <tbody>\n",
       "    <tr>\n",
       "      <th>0</th>\n",
       "      <td>8/14/2018</td>\n",
       "      <td>NaN</td>\n",
       "      <td>NaN</td>\n",
       "      <td>NaN</td>\n",
       "      <td>NaN</td>\n",
       "      <td>NaN</td>\n",
       "      <td>NaN</td>\n",
       "      <td>NaN</td>\n",
       "      <td>NaN</td>\n",
       "      <td>NaN</td>\n",
       "      <td>NaN</td>\n",
       "    </tr>\n",
       "    <tr>\n",
       "      <th>1</th>\n",
       "      <td>8/14/2018</td>\n",
       "      <td>NaN</td>\n",
       "      <td>NaN</td>\n",
       "      <td>NaN</td>\n",
       "      <td>NaN</td>\n",
       "      <td>NaN</td>\n",
       "      <td>NaN</td>\n",
       "      <td>NaN</td>\n",
       "      <td>NaN</td>\n",
       "      <td>NaN</td>\n",
       "      <td>NaN</td>\n",
       "    </tr>\n",
       "    <tr>\n",
       "      <th>2</th>\n",
       "      <td>8/14/2018</td>\n",
       "      <td>13.369189</td>\n",
       "      <td>0.0</td>\n",
       "      <td>0.0</td>\n",
       "      <td>-32.000000</td>\n",
       "      <td>0.0</td>\n",
       "      <td>0.0</td>\n",
       "      <td>87.8</td>\n",
       "      <td>17.7</td>\n",
       "      <td>32.0</td>\n",
       "      <td>3.2</td>\n",
       "    </tr>\n",
       "    <tr>\n",
       "      <th>3</th>\n",
       "      <td>8/14/2018</td>\n",
       "      <td>13.389380</td>\n",
       "      <td>0.0</td>\n",
       "      <td>0.0</td>\n",
       "      <td>-36.000000</td>\n",
       "      <td>0.0</td>\n",
       "      <td>0.0</td>\n",
       "      <td>87.4</td>\n",
       "      <td>17.8</td>\n",
       "      <td>32.0</td>\n",
       "      <td>3.2</td>\n",
       "    </tr>\n",
       "    <tr>\n",
       "      <th>4</th>\n",
       "      <td>8/14/2018</td>\n",
       "      <td>13.455197</td>\n",
       "      <td>0.0</td>\n",
       "      <td>1.0</td>\n",
       "      <td>-38.999999</td>\n",
       "      <td>0.0</td>\n",
       "      <td>0.0</td>\n",
       "      <td>87.3</td>\n",
       "      <td>17.9</td>\n",
       "      <td>32.0</td>\n",
       "      <td>3.2</td>\n",
       "    </tr>\n",
       "  </tbody>\n",
       "</table>\n",
       "</div>"
      ],
      "text/plain": [
       "        time  AbsHumOut  Iglob  PARout     Pyrgeo  RadSum  Rain  Rhout  Tout  \\\n",
       "0  8/14/2018        NaN    NaN     NaN        NaN     NaN   NaN    NaN   NaN   \n",
       "1  8/14/2018        NaN    NaN     NaN        NaN     NaN   NaN    NaN   NaN   \n",
       "2  8/14/2018  13.369189    0.0     0.0 -32.000000     0.0   0.0   87.8  17.7   \n",
       "3  8/14/2018  13.389380    0.0     0.0 -36.000000     0.0   0.0   87.4  17.8   \n",
       "4  8/14/2018  13.455197    0.0     1.0 -38.999999     0.0   0.0   87.3  17.9   \n",
       "\n",
       "   Winddir  Windsp  \n",
       "0      NaN     NaN  \n",
       "1      NaN     NaN  \n",
       "2     32.0     3.2  \n",
       "3     32.0     3.2  \n",
       "4     32.0     3.2  "
      ]
     },
     "execution_count": 10,
     "metadata": {},
     "output_type": "execute_result"
    }
   ],
   "source": [
    "weather2018 = pd.read_csv(base + '/ag_data_2018/meteo.csv')\n",
    "weather2018.head()"
   ]
  },
  {
   "cell_type": "markdown",
   "metadata": {},
   "source": [
    "Data for 2019 Cherry Tomato Challenge: \n",
    "\n",
    "https://data.4tu.nl/articles/dataset/Autonomous_Greenhouse_Challenge_Second_Edition_2019_/12764777/2"
   ]
  },
  {
   "cell_type": "code",
   "execution_count": 8,
   "metadata": {},
   "outputs": [
    {
     "data": {
      "text/plain": [
       "['Digilog',\n",
       " 'IUACAAS',\n",
       " 'Automatoes',\n",
       " 'TheAutomators',\n",
       " 'Economics.pdf',\n",
       " 'Weather',\n",
       " 'AICU',\n",
       " 'ReadMe.pdf',\n",
       " 'Reference']"
      ]
     },
     "execution_count": 8,
     "metadata": {},
     "output_type": "execute_result"
    }
   ],
   "source": [
    "# list of files in the publicly available dataset\n",
    "os.listdir(base+'/ag_data_2019')"
   ]
  },
  {
   "cell_type": "code",
   "execution_count": 11,
   "metadata": {},
   "outputs": [
    {
     "data": {
      "text/html": [
       "<div>\n",
       "<style scoped>\n",
       "    .dataframe tbody tr th:only-of-type {\n",
       "        vertical-align: middle;\n",
       "    }\n",
       "\n",
       "    .dataframe tbody tr th {\n",
       "        vertical-align: top;\n",
       "    }\n",
       "\n",
       "    .dataframe thead th {\n",
       "        text-align: right;\n",
       "    }\n",
       "</style>\n",
       "<table border=\"1\" class=\"dataframe\">\n",
       "  <thead>\n",
       "    <tr style=\"text-align: right;\">\n",
       "      <th></th>\n",
       "      <th>%time</th>\n",
       "      <th>AbsHumOut</th>\n",
       "      <th>Iglob</th>\n",
       "      <th>PARout</th>\n",
       "      <th>Pyrgeo</th>\n",
       "      <th>RadSum</th>\n",
       "      <th>Rain</th>\n",
       "      <th>Rhout</th>\n",
       "      <th>Tout</th>\n",
       "      <th>Winddir</th>\n",
       "      <th>Windsp</th>\n",
       "    </tr>\n",
       "  </thead>\n",
       "  <tbody>\n",
       "    <tr>\n",
       "      <th>0</th>\n",
       "      <td>43815.00000</td>\n",
       "      <td>6.220954</td>\n",
       "      <td>0.0</td>\n",
       "      <td>0.0</td>\n",
       "      <td>-72.0</td>\n",
       "      <td>215.0</td>\n",
       "      <td>0.0</td>\n",
       "      <td>80.6</td>\n",
       "      <td>6.9</td>\n",
       "      <td>32.0</td>\n",
       "      <td>4.7</td>\n",
       "    </tr>\n",
       "    <tr>\n",
       "      <th>1</th>\n",
       "      <td>43815.00347</td>\n",
       "      <td>6.220954</td>\n",
       "      <td>0.0</td>\n",
       "      <td>0.0</td>\n",
       "      <td>-73.0</td>\n",
       "      <td>0.0</td>\n",
       "      <td>0.0</td>\n",
       "      <td>80.6</td>\n",
       "      <td>6.9</td>\n",
       "      <td>32.0</td>\n",
       "      <td>4.7</td>\n",
       "    </tr>\n",
       "    <tr>\n",
       "      <th>2</th>\n",
       "      <td>43815.00694</td>\n",
       "      <td>6.205565</td>\n",
       "      <td>0.0</td>\n",
       "      <td>0.0</td>\n",
       "      <td>-76.0</td>\n",
       "      <td>0.0</td>\n",
       "      <td>0.0</td>\n",
       "      <td>80.4</td>\n",
       "      <td>6.9</td>\n",
       "      <td>32.0</td>\n",
       "      <td>4.7</td>\n",
       "    </tr>\n",
       "    <tr>\n",
       "      <th>3</th>\n",
       "      <td>43815.01042</td>\n",
       "      <td>6.190173</td>\n",
       "      <td>0.0</td>\n",
       "      <td>0.0</td>\n",
       "      <td>-77.0</td>\n",
       "      <td>0.0</td>\n",
       "      <td>0.0</td>\n",
       "      <td>80.2</td>\n",
       "      <td>6.9</td>\n",
       "      <td>32.0</td>\n",
       "      <td>4.7</td>\n",
       "    </tr>\n",
       "    <tr>\n",
       "      <th>4</th>\n",
       "      <td>43815.01389</td>\n",
       "      <td>6.162624</td>\n",
       "      <td>0.0</td>\n",
       "      <td>0.0</td>\n",
       "      <td>-75.0</td>\n",
       "      <td>0.0</td>\n",
       "      <td>0.0</td>\n",
       "      <td>80.9</td>\n",
       "      <td>6.7</td>\n",
       "      <td>32.0</td>\n",
       "      <td>4.7</td>\n",
       "    </tr>\n",
       "  </tbody>\n",
       "</table>\n",
       "</div>"
      ],
      "text/plain": [
       "         %time  AbsHumOut  Iglob  PARout  Pyrgeo  RadSum  Rain  Rhout  Tout  \\\n",
       "0  43815.00000   6.220954    0.0     0.0   -72.0   215.0   0.0   80.6   6.9   \n",
       "1  43815.00347   6.220954    0.0     0.0   -73.0     0.0   0.0   80.6   6.9   \n",
       "2  43815.00694   6.205565    0.0     0.0   -76.0     0.0   0.0   80.4   6.9   \n",
       "3  43815.01042   6.190173    0.0     0.0   -77.0     0.0   0.0   80.2   6.9   \n",
       "4  43815.01389   6.162624    0.0     0.0   -75.0     0.0   0.0   80.9   6.7   \n",
       "\n",
       "   Winddir  Windsp  \n",
       "0     32.0     4.7  \n",
       "1     32.0     4.7  \n",
       "2     32.0     4.7  \n",
       "3     32.0     4.7  \n",
       "4     32.0     4.7  "
      ]
     },
     "execution_count": 11,
     "metadata": {},
     "output_type": "execute_result"
    }
   ],
   "source": [
    "weather2018 = pd.read_csv(base + '/ag_data_2019/Weather/weather.csv')\n",
    "weather2018.head()"
   ]
  },
  {
   "cell_type": "code",
   "execution_count": null,
   "metadata": {},
   "outputs": [],
   "source": []
  }
 ],
 "metadata": {
  "kernelspec": {
   "display_name": "Python 3",
   "language": "python",
   "name": "python3"
  },
  "language_info": {
   "codemirror_mode": {
    "name": "ipython",
    "version": 3
   },
   "file_extension": ".py",
   "mimetype": "text/x-python",
   "name": "python",
   "nbconvert_exporter": "python",
   "pygments_lexer": "ipython3",
   "version": "3.8.6"
  }
 },
 "nbformat": 4,
 "nbformat_minor": 4
}
